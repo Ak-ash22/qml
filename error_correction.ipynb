{
 "cells": [
  {
   "cell_type": "code",
   "execution_count": 18,
   "metadata": {},
   "outputs": [
    {
     "name": "stderr",
     "output_type": "stream",
     "text": [
      "WARNING: all-qubit error already exists for instruction \"u1\", composing with additional error.\n",
      "WARNING: all-qubit error already exists for instruction \"u2\", composing with additional error.\n",
      "WARNING: all-qubit error already exists for instruction \"u3\", composing with additional error.\n"
     ]
    },
    {
     "name": "stdout",
     "output_type": "stream",
     "text": [
      "Simulation completed and results stored in 'simulation_results.json'.\n"
     ]
    }
   ],
   "source": [
    "from qiskit import QuantumCircuit, execute, Aer\n",
    "from qiskit.providers.aer.noise import NoiseModel, depolarizing_error, amplitude_damping_error\n",
    "import json\n",
    "\n",
    "# Define the number of qubits\n",
    "num_qubits = 3\n",
    "\n",
    "# Create a Quantum Circuit acting on the q register\n",
    "circuit = QuantumCircuit(num_qubits, num_qubits)\n",
    "\n",
    "# Add a H gate on qubit 0, putting this qubit in superposition.\n",
    "circuit.h(0)\n",
    "\n",
    "# Add a CX (CNOT) gate on control qubit 0 and target qubit 1, creating entanglement.\n",
    "circuit.cx(0, 1)\n",
    "\n",
    "# Add a Z gate on qubit 2, introducing a phase.\n",
    "circuit.z(2)\n",
    "\n",
    "# Add measurement to the circuit\n",
    "circuit.measure(range(num_qubits), range(num_qubits))\n",
    "\n",
    "# Create a noise model\n",
    "noise_model = NoiseModel()\n",
    "\n",
    "# Add depolarizing error to all single-qubit u1, u2, u3 gates\n",
    "error_1 = depolarizing_error(0.01, 1)\n",
    "noise_model.add_all_qubit_quantum_error(error_1, ['u1', 'u2', 'u3'])\n",
    "\n",
    "# Add amplitude damping error to all single-qubit gates\n",
    "error_2 = amplitude_damping_error(0.05)\n",
    "noise_model.add_all_qubit_quantum_error(error_2, ['u1', 'u2', 'u3'])\n",
    "\n",
    "# Add the same amplitude damping error to measurement\n",
    "noise_model.add_all_qubit_quantum_error(error_2, \"measure\")\n",
    "\n",
    "# Perform a noise simulation\n",
    "simulator = Aer.get_backend('qasm_simulator')\n",
    "\n",
    "# Execute the circuit with the noise model 500 times and collect the results\n",
    "all_counts = []\n",
    "for _ in range(500):\n",
    "    result = execute(circuit, simulator, noise_model=noise_model, shots=1024).result()\n",
    "    counts = result.get_counts(circuit)\n",
    "    all_counts.append(counts)\n",
    "\n",
    "# Save the results to a JSON file for further analysis\n",
    "with open('simulation_results.json', 'w') as f:\n",
    "    json.dump(all_counts, f)\n",
    "\n",
    "print(\"Simulation completed and results stored in 'simulation_results.json'.\")\n"
   ]
  }
 ],
 "metadata": {
  "kernelspec": {
   "display_name": "base",
   "language": "python",
   "name": "python3"
  },
  "language_info": {
   "codemirror_mode": {
    "name": "ipython",
    "version": 3
   },
   "file_extension": ".py",
   "mimetype": "text/x-python",
   "name": "python",
   "nbconvert_exporter": "python",
   "pygments_lexer": "ipython3",
   "version": "3.9.12"
  }
 },
 "nbformat": 4,
 "nbformat_minor": 2
}
